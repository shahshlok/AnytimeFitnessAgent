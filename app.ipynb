{
 "cells": [
  {
   "cell_type": "code",
   "execution_count": 4,
   "id": "43f02ba0",
   "metadata": {},
   "outputs": [
    {
     "data": {
      "text/plain": [
       "True"
      ]
     },
     "execution_count": 4,
     "metadata": {},
     "output_type": "execute_result"
    }
   ],
   "source": [
    "import os\n",
    "from openai import OpenAI\n",
    "from dotenv import load_dotenv\n",
    "\n",
    "load_dotenv()"
   ]
  },
  {
   "cell_type": "code",
   "execution_count": 25,
   "id": "a1c71fb0",
   "metadata": {},
   "outputs": [],
   "source": [
    "client= OpenAI(api_key= os.getenv(\"OPENAI_API_KEY\"))"
   ]
  },
  {
   "cell_type": "code",
   "execution_count": null,
   "id": "4c635c3f",
   "metadata": {},
   "outputs": [
    {
     "name": "stdout",
     "output_type": "stream",
     "text": [
      "Found 17 files to upload. Starting process...\n",
      "  Uploading About Us.md...\n",
      "  -> Success! File ID: file-BQ9sH84DobTmx7Azz7Lryy\n",
      "  Uploading Equipment and Facility Policy.md...\n",
      "  -> Success! File ID: file-3WUg96TWejWqtE967KFQoF\n",
      "  Uploading Careers.md...\n",
      "  -> Success! File ID: file-Tb6uGspydgYXtnseohzuWE\n",
      "  Uploading FAQs.md...\n",
      "  -> Success! File ID: file-L53G8XWGDwtznPuNo5oz55\n",
      "  Uploading Training.md...\n",
      "  -> Success! File ID: file-5q9WD4gYhBYHW9GRjNddgL\n",
      "  Uploading Privacy Policy.md...\n",
      "  -> Success! File ID: file-9dKm14dFG3gVP1q2Z6kEQc\n",
      "  Uploading Workouts App.md...\n",
      "  -> Success! File ID: file-5pq7H2ishie8uPUwXyZp2A\n",
      "  Uploading Health and Safety.md...\n",
      "  -> Success! File ID: file-XSvXsCY6n3mDJTkh7yrS8v\n",
      "  Uploading Homepage.md...\n",
      "  -> Success! File ID: file-6vL2bbWcDiD7MWH1m4ZSYo\n",
      "  Uploading Continued Operations, Accessibility, Maintenance.md...\n",
      "  -> Success! File ID: file-Gh75Q9RQnPJk7ujbDBuDQV\n",
      "  Uploading Preferred Vendors.md...\n",
      "  -> Success! File ID: file-C4FH3nuoSUpffaE27umXvk\n",
      "  Uploading Membership Page.md...\n",
      "  -> Success! File ID: file-WTpTmYwwWUg8LGgjmgRN6m\n",
      "  Uploading Press Releases.md...\n",
      "  -> Success! File ID: file-P7poss1ymcHMHP6NC7Wh6D\n",
      "  Uploading Membership Terms and Conditions.md...\n",
      "  -> Success! File ID: file-AgYsEUUeTB3KodGPZJ52KE\n",
      "  Uploading Franchise Page.md...\n",
      "  -> Success! File ID: file-UbTjJLEHn5Kv9Yk4f8oJsa\n",
      "  Uploading Employee Wellness.md...\n",
      "  -> Success! File ID: file-ABGLmr4MfEfXXVi13YTiXK\n",
      "  Uploading Terms of Use.md...\n",
      "  -> Success! File ID: file-9219TBX56kXejYNExSqeBC\n",
      "\n",
      "==============================\n",
      "File Upload Process Complete.\n",
      "Total files uploaded successfully: 17\n",
      "==============================\n",
      "\n",
      "List of File IDs (copy this for the next step):\n",
      "['file-BQ9sH84DobTmx7Azz7Lryy', 'file-3WUg96TWejWqtE967KFQoF', 'file-Tb6uGspydgYXtnseohzuWE', 'file-L53G8XWGDwtznPuNo5oz55', 'file-5q9WD4gYhBYHW9GRjNddgL', 'file-9dKm14dFG3gVP1q2Z6kEQc', 'file-5pq7H2ishie8uPUwXyZp2A', 'file-XSvXsCY6n3mDJTkh7yrS8v', 'file-6vL2bbWcDiD7MWH1m4ZSYo', 'file-Gh75Q9RQnPJk7ujbDBuDQV', 'file-C4FH3nuoSUpffaE27umXvk', 'file-WTpTmYwwWUg8LGgjmgRN6m', 'file-P7poss1ymcHMHP6NC7Wh6D', 'file-AgYsEUUeTB3KodGPZJ52KE', 'file-UbTjJLEHn5Kv9Yk4f8oJsa', 'file-ABGLmr4MfEfXXVi13YTiXK', 'file-9219TBX56kXejYNExSqeBC']\n"
     ]
    }
   ],
   "source": [
    "# --- File Upload  ---\n",
    "file_directory = \"Scraping Data/\"\n",
    "uploaded_file_ids = []\n",
    "\n",
    "# Check if the directory exists\n",
    "if not os.path.isdir(file_directory):\n",
    "    print(f\"Error: Directory '{file_directory}' not found.\")\n",
    "else:\n",
    "    # Get a list of all markdown files in the directory\n",
    "    files_to_upload = [f for f in os.listdir(file_directory) if f.endswith('.md')]\n",
    "    \n",
    "    if not files_to_upload:\n",
    "        print(f\"No markdown (.md) files found in the '{file_directory}' directory.\")\n",
    "    else:\n",
    "        print(f\"Found {len(files_to_upload)} files to upload. Starting process...\")\n",
    "        \n",
    "        # Loop through each file and upload it\n",
    "        for filename in files_to_upload:\n",
    "            file_path = os.path.join(file_directory, filename)\n",
    "            try:\n",
    "                print(f\"  Uploading {filename}...\")\n",
    "                with open(file_path, \"rb\") as file_stream:\n",
    "                    # Upload the file to OpenAI\n",
    "                    file_object = client.files.create(\n",
    "                        file=file_stream,\n",
    "                        purpose=\"assistants\"  # The purpose must be 'assistants' for use with Vector Stores\n",
    "                    )\n",
    "                \n",
    "                # Append the returned file ID to our list\n",
    "                uploaded_file_ids.append(file_object.id)\n",
    "                print(f\"  -> Success! File ID: {file_object.id}\")\n",
    "            except Exception as e:\n",
    "                print(f\"  -> FAILED to upload {filename}. Error: {e}\")\n",
    "\n",
    "# --- Final Output ---\n",
    "print(\"\\n\" + \"=\"*30)\n",
    "print(\"File Upload Process Complete.\")\n",
    "print(f\"Total files uploaded successfully: {len(uploaded_file_ids)}\")\n",
    "print(\"=\"*30)\n",
    "print(\"\\nList of File IDs:\")\n",
    "print(uploaded_file_ids)"
   ]
  },
  {
   "cell_type": "code",
   "execution_count": 128,
   "id": "d586ad89",
   "metadata": {},
   "outputs": [
    {
     "name": "stdout",
     "output_type": "stream",
     "text": [
      "vs_684abbbf22808191a931c6d613d15f5a\n"
     ]
    }
   ],
   "source": [
    "print(vector_store.id)"
   ]
  },
  {
   "cell_type": "code",
   "execution_count": null,
   "id": "e9b7d791",
   "metadata": {},
   "outputs": [],
   "source": [
    "try:\n",
    "    system_prompt = \"\"\"You are an expert AI assistant and virtual receptionist for Anytime Fitness India. Your entire persona is that of a knowledgeable and friendly human employee.\n",
    "\n",
    "Your responses MUST be cheerful, professional, and helpful, always keeping Anytime Fitness in a positive light.\n",
    "\n",
    "**Your Core Directives:**\n",
    "1.  **Act Human:** You are a person, not an AI. Do not mention AI, language models, OpenAI, or being a bot.\n",
    "2.  **Internal Knowledge Only:** You will be provided with internal information to answer questions. You must act as if this is your own knowledge. Never mention files, documents, your knowledge base, or that you are \"looking something up.\"\n",
    "3.  **No Guessing:** If the information is not in your knowledge base, gracefully state you cannot help with that specific query. Do not make up answers.\n",
    "4.  **Stay on Brand:** Do not say anything negative about Anytime Fitness.\n",
    "5.  **Be Concise:** Keep answers short and to the point (under 60 tokens).\n",
    "\n",
    "**Crucially, you must NEVER use phrases like:**\n",
    "- \"According to the document...\"\n",
    "- \"Based on the files provided...\"\n",
    "- \"The information I have says...\"\n",
    "- \"I found in our knowledge base...\"\n",
    "\n",
    "You must ALWAYS speak from a first-person perspective as a helpful receptionist. Never break character.\n",
    "\"\"\"\n",
    "    conversation_history = [{\"role\": \"system\", \"content\": system_prompt}]\n",
    "    vector_store_id = \"vs_684abbbf22808191a931c6d613d15f5a\" \n",
    "\n",
    "    print(\"--- Anytime Fitness AI Agent ---\")\n",
    "    print(\"Agent is now ready. Type 'exit' or 'quit' to end the session.\")\n",
    "\n",
    "    \n",
    "    while True:\n",
    "        # Get user input\n",
    "        query = input(\"👤 You: \")\n",
    "        \n",
    "        # Check for exit condition\n",
    "        if query.lower() in [\"exit\", \"quit\"]:\n",
    "            print(\"\\n🤖 Assistant: It was a pleasure to help. Have a wonderful day!\")\n",
    "            break\n",
    "        print(\"\\n👤 You: \"+ query)\n",
    "        try:\n",
    "            conversation_history.append({\"role\": \"user\", \"content\": str(query)})\n",
    "            \n",
    "            # Make the API call\n",
    "            response = client.responses.create(\n",
    "                model=\"gpt-4o-mini\",\n",
    "                input=conversation_history,\n",
    "                tools=[{\n",
    "                    \"type\": \"file_search\",\n",
    "                    \"vector_store_ids\": [vector_store_id]\n",
    "                }]\n",
    "            )\n",
    "\n",
    "            \n",
    "            response_text= None\n",
    "            for item in response.output:\n",
    "                if(hasattr(item, 'role') and item.role== 'assistant'):\n",
    "                    response_text= item\n",
    "                    break\n",
    "\n",
    "            if response_text:\n",
    "                text_content_block = response_text.content[0]\n",
    "                response_text = text_content_block.text\n",
    "                \n",
    "                display_text = response_text\n",
    "\n",
    "                print(f\"🤖 Assistant: {display_text}\")\n",
    "                \n",
    "                conversation_history.append({\"role\": \"assistant\", \"content\": response_text})\n",
    "            else:\n",
    "                print(\"🤖 Assistant: I seem to be having trouble finding an answer right now. Could you please try asking in a different way?\")\n",
    "                conversation_history.pop()\n",
    "\n",
    "        except Exception as e:\n",
    "            print(f\"\\nAn error occurred during the API call: {e}\")\n",
    "            conversation_history.pop()\n",
    "\n",
    "except NameError:\n",
    "    print(\"\\n[ERROR] The 'vector_store' object was not found.\")\n",
    "except Exception as e:\n",
    "    print(f\"\\nAn unexpected error occurred during setup: {e}\")"
   ]
  },
  {
   "cell_type": "markdown",
   "id": "5de9d797",
   "metadata": {},
   "source": [
    "# Adding Text to Speech"
   ]
  },
  {
   "cell_type": "code",
   "execution_count": 44,
   "id": "8134a52a",
   "metadata": {},
   "outputs": [
    {
     "name": "stdout",
     "output_type": "stream",
     "text": [
      "The initial investment for an Anytime Fitness franchise in India typically ranges between ₹2.5 crores to ₹3 crores. Additionally, there is a fixed monthly royalty fee of approximately ₹1.5 lakhs.\n"
     ]
    }
   ],
   "source": [
    "to_tts= \"\"\n",
    "for item in conversation_history:\n",
    "    if item.get(\"role\")== \"assistant\":\n",
    "        to_tts= item['content']\n",
    "\n",
    "print(to_tts)"
   ]
  },
  {
   "cell_type": "code",
   "execution_count": null,
   "id": "f1c4919b",
   "metadata": {},
   "outputs": [
    {
     "name": "stdout",
     "output_type": "stream",
     "text": [
      "Audio saved to speech.mp3\n"
     ]
    }
   ],
   "source": [
    "import os \n",
    "import asyncio \n",
    "from openai import AsyncOpenAI\n",
    "from openai.helpers import LocalAudioPlayer\n",
    "from pathlib import Path\n",
    "\n",
    "\n",
    "openai = AsyncOpenAI(api_key=os.getenv(\"OPENAI_API_KEY\"))\n",
    "\n",
    "async def main() -> None:\n",
    "    speech_file_path = Path(\"speech.mp3\") \n",
    "    async with openai.audio.speech.with_streaming_response.create(\n",
    "        model=\"gpt-4o-mini-tts\",\n",
    "        voice=\"echo\",\n",
    "        input= to_tts,\n",
    "        instructions=\"Speak in a cheerful tone that is a joy to hear\"\n",
    "    ) as response:\n",
    "        await returned= response\n",
    "        print(returned)\n",
    "\n",
    "await main()"
   ]
  }
 ],
 "metadata": {
  "kernelspec": {
   "display_name": "AF_Agent",
   "language": "python",
   "name": "af_agent"
  },
  "language_info": {
   "codemirror_mode": {
    "name": "ipython",
    "version": 3
   },
   "file_extension": ".py",
   "mimetype": "text/x-python",
   "name": "python",
   "nbconvert_exporter": "python",
   "pygments_lexer": "ipython3",
   "version": "3.12.10"
  }
 },
 "nbformat": 4,
 "nbformat_minor": 5
}
