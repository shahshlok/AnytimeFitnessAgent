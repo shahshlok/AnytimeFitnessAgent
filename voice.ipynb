{
 "cells": [
  {
   "cell_type": "code",
   "execution_count": null,
   "metadata": {},
   "outputs": [],
   "source": [
    "%pip install openai\n",
    "%pip install openai-agents 'openai-agents[voice]'\n",
    "%pip install numpy\n",
    "%pip install sounddevice\n",
    "%pip install os\n",
    "%pip install dotenv"
   ]
  },
  {
   "cell_type": "code",
   "execution_count": 9,
   "metadata": {},
   "outputs": [],
   "source": [
    "import os\n",
    "from dotenv import load_dotenv\n",
    "\n",
    "load_dotenv()\n",
    "\n",
    "from agents import Agent, function_tool,  FileSearchTool\n",
    "from agents.extensions.handoff_prompt import prompt_with_handoff_instructions\n",
    "\n",
    "VECTOR_STORE_ID = os.getenv(\"VECTOR_STORE_ID\")\n"
   ]
  },
  {
   "cell_type": "markdown",
   "metadata": {},
   "source": [
    "## Agent Setup"
   ]
  },
  {
   "cell_type": "code",
   "execution_count": 10,
   "metadata": {},
   "outputs": [
    {
     "name": "stdout",
     "output_type": "stream",
     "text": [
      "Agent(name='AnytimeFitnessKnowledgeAgent', instructions='You are a friendly and knowledgeable representative for Anytime Fitness. Your sole purpose is to answer user questions about Anytime Fitness by using the FileSearchTool. Provide clear, helpful, and concise answers based strictly on the information found in the documents. Do not make up information.', handoff_description=None, handoffs=[], model=None, model_settings=ModelSettings(temperature=None, top_p=None, frequency_penalty=None, presence_penalty=None, tool_choice=None, parallel_tool_calls=None, truncation=None, max_tokens=None, reasoning=None, metadata=None, store=None, include_usage=None, extra_query=None, extra_body=None, extra_headers=None), tools=[FileSearchTool(vector_store_ids=['vs_684abbbf22808191a931c6d613d15f5a'], max_num_results=None, include_search_results=False, ranking_options=None, filters=None)], mcp_servers=[], mcp_config={}, input_guardrails=[], output_guardrails=[], output_type=None, hooks=None, tool_use_behavior='run_llm_again', reset_tool_choice=True)\n"
     ]
    }
   ],
   "source": [
    "# File Agent\n",
    "\n",
    "knowledge_agent = Agent(\n",
    "    name=\"AnytimeFitnessKnowledgeAgent\",\n",
    "    instructions=(\n",
    "        \"You are a friendly and knowledgeable representative for Anytime Fitness. \"\n",
    "        \"Your sole purpose is to answer user questions about Anytime Fitness by using the FileSearchTool. \"\n",
    "        \"Provide clear, helpful, and concise answers based strictly on the information found in the documents. \"\n",
    "        \"Do not make up information.\"\n",
    "    ),\n",
    "    tools= [FileSearchTool(\n",
    "        vector_store_ids=[VECTOR_STORE_ID]\n",
    "        )],\n",
    ")\n",
    "\n",
    "print(knowledge_agent)"
   ]
  },
  {
   "cell_type": "code",
   "execution_count": 11,
   "metadata": {},
   "outputs": [
    {
     "name": "stdout",
     "output_type": "stream",
     "text": [
      "Agent(name='Assistant', instructions='# System context\\nYou are part of a multi-agent system called the Agents SDK, designed to make agent coordination and execution easy. Agents uses two primary abstraction: **Agents** and **Handoffs**. An agent encompasses instructions and tools and can hand off a conversation to another agent when appropriate. Handoffs are achieved by calling a handoff function, generally named `transfer_to_<agent_name>`. Transfers between agents are handled seamlessly in the background; do not mention or draw attention to these transfers in your conversation with the user.\\n\\n\\nYou are the virtual assistant for Anytime Fitness. \\n        Welcome the user warmly and determine their needs.\\n        Based on their query, route to the correct specialist:\\n\\n        - AnytimeFitnessKnowledgeAgent for any questions about Anytime Fitness memberships, equipment, policies, or general information.', handoff_description=None, handoffs=[Agent(name='AnytimeFitnessKnowledgeAgent', instructions='You are a friendly and knowledgeable representative for Anytime Fitness. Your sole purpose is to answer user questions about Anytime Fitness by using the FileSearchTool. Provide clear, helpful, and concise answers based strictly on the information found in the documents. Do not make up information.', handoff_description=None, handoffs=[], model=None, model_settings=ModelSettings(temperature=None, top_p=None, frequency_penalty=None, presence_penalty=None, tool_choice=None, parallel_tool_calls=None, truncation=None, max_tokens=None, reasoning=None, metadata=None, store=None, include_usage=None, extra_query=None, extra_body=None, extra_headers=None), tools=[FileSearchTool(vector_store_ids=['vs_684abbbf22808191a931c6d613d15f5a'], max_num_results=None, include_search_results=False, ranking_options=None, filters=None)], mcp_servers=[], mcp_config={}, input_guardrails=[], output_guardrails=[], output_type=None, hooks=None, tool_use_behavior='run_llm_again', reset_tool_choice=True)], model=None, model_settings=ModelSettings(temperature=None, top_p=None, frequency_penalty=None, presence_penalty=None, tool_choice=None, parallel_tool_calls=None, truncation=None, max_tokens=None, reasoning=None, metadata=None, store=None, include_usage=None, extra_query=None, extra_body=None, extra_headers=None), tools=[], mcp_servers=[], mcp_config={}, input_guardrails=[], output_guardrails=[], output_type=None, hooks=None, tool_use_behavior='run_llm_again', reset_tool_choice=True)\n"
     ]
    }
   ],
   "source": [
    "# Triage Agent (not necessary for now but for further expansion)\n",
    "\n",
    "triage_agent = Agent(\n",
    "    name=\"Assistant\",\n",
    "    instructions=prompt_with_handoff_instructions(\n",
    "        \"\"\"You are the virtual assistant for Anytime Fitness. \n",
    "        Welcome the user warmly and determine their needs.\n",
    "        Based on their query, route to the correct specialist:\n",
    "\n",
    "        - AnytimeFitnessKnowledgeAgent for any questions about Anytime Fitness memberships, equipment, policies, or general information.\"\"\"\n",
    "    ),\n",
    "    # This list tells the Triage Agent which specialists it can hand off to.\n",
    "    handoffs=[knowledge_agent],\n",
    ")\n",
    "\n",
    "print(triage_agent)"
   ]
  },
  {
   "cell_type": "markdown",
   "metadata": {},
   "source": [
    "## Voice Pipeline"
   ]
  },
  {
   "cell_type": "code",
   "execution_count": null,
   "metadata": {},
   "outputs": [
    {
     "name": "stdout",
     "output_type": "stream",
     "text": [
      "🎤 Agent is ready. Type 'exit' and press Enter at the prompt to quit.\n",
      "----------------------------------------------------------------------\n",
      "🎤 Listening... Press Enter again when you are finished speaking.\n",
      "Processing...\n",
      "🎤 Listening... Press Enter again when you are finished speaking.\n",
      "Processing...\n"
     ]
    }
   ],
   "source": [
    "import numpy as np\n",
    "import sounddevice as sd\n",
    "from agents.voice import AudioInput, SingleAgentVoiceWorkflow, VoicePipeline\n",
    "from agents import trace\n",
    "import asyncio \n",
    "\n",
    "\n",
    "workflow = SingleAgentVoiceWorkflow(agent=triage_agent)\n",
    "pipeline = VoicePipeline(workflow=workflow)\n",
    "samplerate = int(sd.query_devices(kind='input')['default_samplerate'])\n",
    "\n",
    "async def main():\n",
    "    print(\"🎤 Agent is ready. Type 'exit' and press Enter at the prompt to quit.\")\n",
    "    print(\"-\" * 70)\n",
    "\n",
    "    # main loop\n",
    "    while True:\n",
    "        cmd = input(\"Press Enter to speak...\")\n",
    "        if cmd.lower() == 'exit':\n",
    "            print(\"👋 Goodbye!\")\n",
    "            break\n",
    "\n",
    "        print(\"🎤 Listening... Press Enter again when you are finished speaking.\")\n",
    "        \n",
    "        recorded_chunks = []\n",
    "        def callback(indata, frames, time, status):\n",
    "            if status:\n",
    "                print(f\"🔴 Recording error: {status}\", flush=True)\n",
    "            recorded_chunks.append(indata.copy())\n",
    "            \n",
    "        with sd.InputStream(callback=callback, samplerate=samplerate, channels=1, dtype='int16'):\n",
    "            input()\n",
    "            \n",
    "        print(\"Processing...\")\n",
    "        recording = np.concatenate(recorded_chunks, axis=0)\n",
    "        \n",
    "\n",
    "        audio_input = AudioInput(buffer=recording, frame_rate=samplerate)\n",
    "        \n",
    "        with trace(\"Anytime Fitness Voice Agent\"):\n",
    "            result = await pipeline.run(audio_input)\n",
    "        \n",
    "        response_chunks = []\n",
    "        async for event in result.stream():\n",
    "            if event.type == \"voice_stream_event_audio\":\n",
    "                response_chunks.append(event.data)\n",
    "                \n",
    "        if response_chunks:\n",
    "            print(\"🤖 Assistant is responding...\")\n",
    "            response_audio = np.concatenate(response_chunks, axis=0)\n",
    "            \n",
    "            sd.play(response_audio, samplerate=samplerate)\n",
    "            sd.wait()\n",
    "            print(\"Done\")\n",
    "\n",
    "if __name__ == \"__main__\":\n",
    "    try:\n",
    "        await main()\n",
    "    except KeyboardInterrupt:\n",
    "        print(\"\\nExiting program.\")"
   ]
  }
 ],
 "metadata": {
  "kernelspec": {
   "display_name": "AF_Voice",
   "language": "python",
   "name": "af_voice"
  },
  "language_info": {
   "codemirror_mode": {
    "name": "ipython",
    "version": 3
   },
   "file_extension": ".py",
   "mimetype": "text/x-python",
   "name": "python",
   "nbconvert_exporter": "python",
   "pygments_lexer": "ipython3",
   "version": "3.12.10"
  }
 },
 "nbformat": 4,
 "nbformat_minor": 2
}
