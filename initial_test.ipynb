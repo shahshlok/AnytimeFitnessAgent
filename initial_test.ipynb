{
 "cells": [
  {
   "cell_type": "code",
   "execution_count": null,
   "id": "43f02ba0",
   "metadata": {},
   "outputs": [],
   "source": [
    "import os\n",
    "import time\n",
    "from openai import OpenAI\n",
    "from dotenv import load_dotenv\n",
    "\n",
    "load_dotenv()"
   ]
  },
  {
   "cell_type": "code",
   "execution_count": null,
   "id": "a1c71fb0",
   "metadata": {},
   "outputs": [],
   "source": [
    "client= OpenAI(api_key= os.getenv(\"OPENAI_API_KEY\"))\n"
   ]
  },
  {
   "cell_type": "code",
   "execution_count": null,
   "id": "d3fd8710",
   "metadata": {},
   "outputs": [
    {
     "name": "stdout",
     "output_type": "stream",
     "text": [
      "file-GGomcjXZ6P2j72tinqsBUh\n"
     ]
    }
   ],
   "source": [
    "# Test upload a file\n",
    "import requests\n",
    "from io import BytesIO\n",
    "\n",
    "client = OpenAI()\n",
    "\n",
    "def create_file(client, file_path):\n",
    "    \n",
    "    with open(file_path, \"rb\") as file_content:\n",
    "        result = client.files.create(\n",
    "            file=file_content,\n",
    "            purpose=\"assistants\"\n",
    "        )\n",
    "    print(result.id)\n",
    "    return result.id\n",
    "\n",
    "file_id = create_file(client, 'Scraping Data/About Us.md')\n"
   ]
  },
  {
   "cell_type": "code",
   "execution_count": 8,
   "id": "b7382a30",
   "metadata": {},
   "outputs": [
    {
     "name": "stdout",
     "output_type": "stream",
     "text": [
      "vs_684ab7f2a0d88191b1c23da94ddb322a\n"
     ]
    }
   ],
   "source": [
    "# Create vector store\n",
    "vector_store = client.vector_stores.create(\n",
    "    name=\"anytime_fitness_poc\"\n",
    ")\n",
    "print(vector_store.id)"
   ]
  },
  {
   "cell_type": "code",
   "execution_count": 10,
   "id": "392395df",
   "metadata": {},
   "outputs": [
    {
     "name": "stdout",
     "output_type": "stream",
     "text": [
      "VectorStoreFile(id='file-GGomcjXZ6P2j72tinqsBUh', created_at=1749727262, last_error=None, object='vector_store.file', status='in_progress', usage_bytes=0, vector_store_id='vs_684ab7f2a0d88191b1c23da94ddb322a', attributes={}, chunking_strategy=StaticFileChunkingStrategyObject(static=StaticFileChunkingStrategy(chunk_overlap_tokens=400, max_chunk_size_tokens=800), type='static'))\n"
     ]
    }
   ],
   "source": [
    "# Add file to vector store\n",
    "add_file_result= client.vector_stores.files.create(\n",
    "    vector_store_id=vector_store.id,\n",
    "    file_id=file_id\n",
    ")\n",
    "print(add_file_result)"
   ]
  },
  {
   "cell_type": "code",
   "execution_count": 16,
   "id": "4a1fec97",
   "metadata": {},
   "outputs": [
    {
     "name": "stdout",
     "output_type": "stream",
     "text": [
      "Response(id='resp_684ab9d74fec81a2aedecfdabc4566ee08603258e9a3a306', created_at=1749727703.0, error=None, incomplete_details=None, instructions=None, metadata={}, model='gpt-4o-mini-2024-07-18', object='response', output=[ResponseFileSearchToolCall(id='fs_684ab9d7e4ec81a2b9a01f241db53f9208603258e9a3a306', queries=['What is Anytime Fitness about?'], status='completed', type='file_search_call', results=None), ResponseOutputMessage(id='msg_684ab9d94fec81a2aa3284ac09f102ff08603258e9a3a306', content=[ResponseOutputText(annotations=[AnnotationFileCitation(file_id='file-GGomcjXZ6P2j72tinqsBUh', index=455, type='file_citation', filename='About Us.md')], text='Anytime Fitness is a global leader in 24-hour fitness, offering state-of-the-art equipment and certified trainers in a supportive community. The organization emphasizes enriching lives through health, fitness, and convenience, aiming to facilitate individual fitness journeys while also focusing on franchise growth. With clubs in 48 countries, Anytime Fitness continues to expand its presence and maintain a commitment to making fitness accessible to all.', type='output_text', logprobs=None)], role='assistant', status='completed', type='message')], parallel_tool_calls=True, temperature=1.0, tool_choice='auto', tools=[FileSearchTool(type='file_search', vector_store_ids=['vs_684ab7f2a0d88191b1c23da94ddb322a'], filters=None, max_num_results=20, ranking_options=RankingOptions(ranker='auto', score_threshold=0.0))], top_p=1.0, background=False, max_output_tokens=None, previous_response_id=None, reasoning=Reasoning(effort=None, generate_summary=None, summary=None), service_tier='default', status='completed', text=ResponseTextConfig(format=ResponseFormatText(type='text')), truncation='disabled', usage=ResponseUsage(input_tokens=2560, input_tokens_details=InputTokensDetails(cached_tokens=0), output_tokens=106, output_tokens_details=OutputTokensDetails(reasoning_tokens=0), total_tokens=2666), user=None, store=True)\n"
     ]
    }
   ],
   "source": [
    "# File Search Tool:\n",
    "response = client.responses.create(\n",
    "    model=\"gpt-4o-mini\",\n",
    "    input=\"What is anytime fitness about? The output should be a few lines\",\n",
    "    tools=[{\n",
    "        \"type\": \"file_search\",\n",
    "        \"vector_store_ids\": [\"vs_684ab7f2a0d88191b1c23da94ddb322a\"]\n",
    "    }]\n",
    ")\n",
    "print(response)"
   ]
  },
  {
   "cell_type": "code",
   "execution_count": null,
   "id": "107a6c68",
   "metadata": {},
   "outputs": [],
   "source": [
    "# --- Cleanup Cell: Delete Test Vector Store and File ---\n",
    "\n",
    "vector_store_id_to_delete = \"vs_684ab7f2a0d88191b1c23da94ddb322a\"\n",
    "file_id_to_delete = \"file-GGomcjXZ6P2j72tinqsBUh\"\n",
    "\n",
    "print(f\"Attempting to delete Vector Store: {vector_store_id_to_delete}\")\n",
    "try:\n",
    "    # 1. Delete the Vector Store\n",
    "    # Deleting the store automatically handles the disassociation of any files within it.\n",
    "    response_vs = client.vector_stores.delete(\n",
    "      vector_store_id=vector_store_id_to_delete\n",
    "    )\n",
    "    print(f\"Successfully deleted vector store: {response_vs.id}, status: {response_vs.deleted}\")\n",
    "except Exception as e:\n",
    "    # This will catch errors if the store was already deleted or doesn't exist.\n",
    "    print(f\"Error deleting vector store: {e}\")\n",
    "\n",
    "print(\"-\" * 20)\n",
    "\n",
    "print(f\"Attempting to delete File: {file_id_to_delete}\")\n",
    "try:\n",
    "    # 2. Delete the File\n",
    "    # This removes the file completely from your OpenAI organization's storage.\n",
    "    response_file = client.files.delete(\n",
    "      file_id=file_id_to_delete\n",
    "    )\n",
    "    print(f\"Successfully deleted file: {response_file.id}, status: {response_file.deleted}\")\n",
    "except Exception as e:\n",
    "    # This will catch errors if the file was already deleted or doesn't exist.\n",
    "    print(f\"Error deleting file: {e}\")"
   ]
  }
 ],
 "metadata": {
  "kernelspec": {
   "display_name": "venv",
   "language": "python",
   "name": "python3"
  },
  "language_info": {
   "codemirror_mode": {
    "name": "ipython",
    "version": 3
   },
   "file_extension": ".py",
   "mimetype": "text/x-python",
   "name": "python",
   "nbconvert_exporter": "python",
   "pygments_lexer": "ipython3",
   "version": "3.12.10"
  }
 },
 "nbformat": 4,
 "nbformat_minor": 5
}
